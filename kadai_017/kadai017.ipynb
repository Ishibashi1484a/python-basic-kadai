{
 "cells": [
  {
   "cell_type": "code",
   "execution_count": 11,
   "id": "671065c7",
   "metadata": {},
   "outputs": [
    {
     "name": "stdout",
     "output_type": "stream",
     "text": [
      "一郎 は大人です。\n",
      "次郎 は大人です。\n",
      "花子 は大人です。\n",
      "美子 は大人です。\n"
     ]
    }
   ],
   "source": [
    "class Human:\n",
    "    def __init__(self, name, age):\n",
    "        self.name = name\n",
    "        self.age = age\n",
    "    def check_adult(self):\n",
    "        if self.age >= 20:\n",
    "            print(f\"{self.name} は大人です。\")\n",
    "        else:\n",
    "            print(f\"{self.name} は大人ではありません。\")\n",
    "\n",
    "humans = [\n",
    "    Human(\"一郎\",25),\n",
    "    Human(\"次郎\",30),\n",
    "    Human(\"花子\",24),\n",
    "    Human(\"美子\",28)\n",
    "]\n",
    "\n",
    "for human in humans:\n",
    "    human.check_adult()\n",
    "\n"
   ]
  }
 ],
 "metadata": {
  "kernelspec": {
   "display_name": "Python 3",
   "language": "python",
   "name": "python3"
  },
  "language_info": {
   "codemirror_mode": {
    "name": "ipython",
    "version": 3
   },
   "file_extension": ".py",
   "mimetype": "text/x-python",
   "name": "python",
   "nbconvert_exporter": "python",
   "pygments_lexer": "ipython3",
   "version": "3.13.5"
  }
 },
 "nbformat": 4,
 "nbformat_minor": 5
}

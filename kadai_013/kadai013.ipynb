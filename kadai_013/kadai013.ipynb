{
 "cells": [
  {
   "cell_type": "code",
   "execution_count": 2,
   "id": "ed00f567",
   "metadata": {},
   "outputs": [
    {
     "name": "stdout",
     "output_type": "stream",
     "text": [
      "121円\n"
     ]
    }
   ],
   "source": [
    "def calculate_total(price,tax_rate):\n",
    "    total_price = price * (1 + tax_rate/100)\n",
    "    print(f\"{int(total_price)}円\")\n",
    "\n",
    "calculate_total(110,10)"
   ]
  },
  {
   "cell_type": "markdown",
   "id": "47b16d5f",
   "metadata": {},
   "source": []
  }
 ],
 "metadata": {
  "kernelspec": {
   "display_name": "Python 3",
   "language": "python",
   "name": "python3"
  },
  "language_info": {
   "codemirror_mode": {
    "name": "ipython",
    "version": 3
   },
   "file_extension": ".py",
   "mimetype": "text/x-python",
   "name": "python",
   "nbconvert_exporter": "python",
   "pygments_lexer": "ipython3",
   "version": "3.13.5"
  }
 },
 "nbformat": 4,
 "nbformat_minor": 5
}

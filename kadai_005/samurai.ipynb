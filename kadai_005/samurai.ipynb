{
  "nbformat": 4,
  "nbformat_minor": 0,
  "metadata": {
    "colab": {
      "provenance": [],
      "gpuType": "T4"
    },
    "kernelspec": {
      "name": "python3",
      "display_name": "Python 3"
    },
    "language_info": {
      "name": "python"
    },
    "accelerator": "GPU"
  },
  "cells": [
    {
      "cell_type": "code",
      "execution_count": 9,
      "metadata": {
        "colab": {
          "base_uri": "https://localhost:8080/"
        },
        "id": "V-xJ1mfXAB9V",
        "outputId": "d3f54e7a-3ed7-4490-e7a8-a5a4257cac30"
      },
      "outputs": [
        {
          "output_type": "stream",
          "name": "stdout",
          "text": [
            "75.0cm²\n"
          ]
        }
      ],
      "source": [
        "top_edge =10\n",
        "bottom_edge =20\n",
        "height =5\n",
        "trapezium =(top_edge+bottom_edge) * height / 2\n",
        "print(str(trapezium) +\"cm²\")"
      ]
    },
    {
      "cell_type": "code",
      "source": [],
      "metadata": {
        "id": "Pm8fMxZ6G-Po"
      },
      "execution_count": null,
      "outputs": []
    },
    {
      "cell_type": "code",
      "source": [],
      "metadata": {
        "id": "AngPWyK4G6IF"
      },
      "execution_count": null,
      "outputs": []
    }
  ]
}
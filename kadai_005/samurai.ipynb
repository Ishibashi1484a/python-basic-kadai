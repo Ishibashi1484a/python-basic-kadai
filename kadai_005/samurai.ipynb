{
  "nbformat": 4,
  "nbformat_minor": 0,
  "metadata": {
    "colab": {
      "provenance": [],
      "gpuType": "T4"
    },
    "kernelspec": {
      "name": "python3",
      "display_name": "Python 3"
    },
    "language_info": {
      "name": "python"
    },
    "accelerator": "GPU"
  },
  "cells": [
    {
      "cell_type": "code",
      "execution_count": 8,
      "metadata": {
        "colab": {
          "base_uri": "https://localhost:8080/"
        },
        "id": "V-xJ1mfXAB9V",
        "outputId": "ff5e6e41-b55b-4b34-a02d-99274a6cfedd"
      },
      "outputs": [
        {
          "output_type": "stream",
          "name": "stdout",
          "text": [
            "75.0㎠\n"
          ]
        }
      ],
      "source": [
        "top_edge =10\n",
        "bottom_edge =20\n",
        "height =5\n",
        "print(str((top_edge+bottom_edge) * height / 2) +\"㎠\")"
      ]
    },
    {
      "cell_type": "code",
      "source": [],
      "metadata": {
        "id": "Pm8fMxZ6G-Po"
      },
      "execution_count": null,
      "outputs": []
    },
    {
      "cell_type": "code",
      "source": [],
      "metadata": {
        "id": "AngPWyK4G6IF"
      },
      "execution_count": null,
      "outputs": []
    }
  ]
}